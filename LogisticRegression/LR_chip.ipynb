{
 "cells": [
  {
   "cell_type": "markdown",
   "id": "408ae069",
   "metadata": {},
   "source": [
    "# 逻辑回归预测芯片质量"
   ]
  },
  {
   "cell_type": "code",
   "execution_count": 1,
   "id": "f81295db",
   "metadata": {},
   "outputs": [
    {
     "data": {
      "text/html": [
       "<div>\n",
       "<style scoped>\n",
       "    .dataframe tbody tr th:only-of-type {\n",
       "        vertical-align: middle;\n",
       "    }\n",
       "\n",
       "    .dataframe tbody tr th {\n",
       "        vertical-align: top;\n",
       "    }\n",
       "\n",
       "    .dataframe thead th {\n",
       "        text-align: right;\n",
       "    }\n",
       "</style>\n",
       "<table border=\"1\" class=\"dataframe\">\n",
       "  <thead>\n",
       "    <tr style=\"text-align: right;\">\n",
       "      <th></th>\n",
       "      <th>test1</th>\n",
       "      <th>test2</th>\n",
       "      <th>pass</th>\n",
       "    </tr>\n",
       "  </thead>\n",
       "  <tbody>\n",
       "    <tr>\n",
       "      <th>0</th>\n",
       "      <td>0.051267</td>\n",
       "      <td>0.69956</td>\n",
       "      <td>1</td>\n",
       "    </tr>\n",
       "    <tr>\n",
       "      <th>1</th>\n",
       "      <td>-0.092742</td>\n",
       "      <td>0.68494</td>\n",
       "      <td>1</td>\n",
       "    </tr>\n",
       "    <tr>\n",
       "      <th>2</th>\n",
       "      <td>-0.213710</td>\n",
       "      <td>0.69225</td>\n",
       "      <td>1</td>\n",
       "    </tr>\n",
       "    <tr>\n",
       "      <th>3</th>\n",
       "      <td>-0.375000</td>\n",
       "      <td>0.50219</td>\n",
       "      <td>1</td>\n",
       "    </tr>\n",
       "    <tr>\n",
       "      <th>4</th>\n",
       "      <td>0.183760</td>\n",
       "      <td>0.93348</td>\n",
       "      <td>0</td>\n",
       "    </tr>\n",
       "  </tbody>\n",
       "</table>\n",
       "</div>"
      ],
      "text/plain": [
       "      test1    test2  pass\n",
       "0  0.051267  0.69956     1\n",
       "1 -0.092742  0.68494     1\n",
       "2 -0.213710  0.69225     1\n",
       "3 -0.375000  0.50219     1\n",
       "4  0.183760  0.93348     0"
      ]
     },
     "execution_count": 1,
     "metadata": {},
     "output_type": "execute_result"
    }
   ],
   "source": [
    "# 加载数据\n",
    "import pandas as pd\n",
    "import numpy as np\n",
    "\n",
    "data = pd.read_csv('chip_test.csv')\n",
    "data.head()"
   ]
  },
  {
   "cell_type": "code",
   "execution_count": 7,
   "id": "10c110a2",
   "metadata": {},
   "outputs": [],
   "source": [
    "# 定义数据\n",
    "X = data.drop(['pass'], axis = 1)\n",
    "y = data.loc[:, 'pass']\n",
    "X1 = data.loc[:, 'test1']\n",
    "X2 = data.loc[:, 'test2']\n",
    "mask = data.loc[:, 'pass'] == 1"
   ]
  },
  {
   "cell_type": "code",
   "execution_count": 13,
   "id": "6f6401a3",
   "metadata": {},
   "outputs": [
    {
     "data": {
      "image/png": "[encoded data removed]",
      "text/plain": [
       "<Figure size 432x288 with 1 Axes>"
      ]
     },
     "metadata": {
      "needs_background": "light"
     },
     "output_type": "display_data"
    }
   ],
   "source": [
    "# 可视化数据\n",
    "import matplotlib.pyplot as plt\n",
    "fig1 = plt.figure()\n",
    "passed = plt.scatter(X1[mask], X2[mask])\n",
    "failed = plt.scatter(X1[~mask], X2[~mask])\n",
    "plt.xlabel('test1')\n",
    "plt.ylabel('test2')\n",
    "plt.legend((passed, failed), ('passed', 'failed'))\n",
    "plt.show()"
   ]
  },
  {
   "cell_type": "code",
   "execution_count": 14,
   "id": "3063842f",
   "metadata": {},
   "outputs": [
    {
     "data": {
      "text/html": [
       "<div>\n",
       "<style scoped>\n",
       "    .dataframe tbody tr th:only-of-type {\n",
       "        vertical-align: middle;\n",
       "    }\n",
       "\n",
       "    .dataframe tbody tr th {\n",
       "        vertical-align: top;\n",
       "    }\n",
       "\n",
       "    .dataframe thead th {\n",
       "        text-align: right;\n",
       "    }\n",
       "</style>\n",
       "<table border=\"1\" class=\"dataframe\">\n",
       "  <thead>\n",
       "    <tr style=\"text-align: right;\">\n",
       "      <th></th>\n",
       "      <th>X1</th>\n",
       "      <th>X2</th>\n",
       "      <th>X1_2</th>\n",
       "      <th>X2_2</th>\n",
       "      <th>X1_X2</th>\n",
       "    </tr>\n",
       "  </thead>\n",
       "  <tbody>\n",
       "    <tr>\n",
       "      <th>0</th>\n",
       "      <td>0.051267</td>\n",
       "      <td>0.699560</td>\n",
       "      <td>0.002628</td>\n",
       "      <td>0.489384</td>\n",
       "      <td>0.035864</td>\n",
       "    </tr>\n",
       "    <tr>\n",
       "      <th>1</th>\n",
       "      <td>-0.092742</td>\n",
       "      <td>0.684940</td>\n",
       "      <td>0.008601</td>\n",
       "      <td>0.469143</td>\n",
       "      <td>-0.063523</td>\n",
       "    </tr>\n",
       "    <tr>\n",
       "      <th>2</th>\n",
       "      <td>-0.213710</td>\n",
       "      <td>0.692250</td>\n",
       "      <td>0.045672</td>\n",
       "      <td>0.479210</td>\n",
       "      <td>-0.147941</td>\n",
       "    </tr>\n",
       "    <tr>\n",
       "      <th>3</th>\n",
       "      <td>-0.375000</td>\n",
       "      <td>0.502190</td>\n",
       "      <td>0.140625</td>\n",
       "      <td>0.252195</td>\n",
       "      <td>-0.188321</td>\n",
       "    </tr>\n",
       "    <tr>\n",
       "      <th>4</th>\n",
       "      <td>0.183760</td>\n",
       "      <td>0.933480</td>\n",
       "      <td>0.033768</td>\n",
       "      <td>0.871385</td>\n",
       "      <td>0.171536</td>\n",
       "    </tr>\n",
       "    <tr>\n",
       "      <th>...</th>\n",
       "      <td>...</td>\n",
       "      <td>...</td>\n",
       "      <td>...</td>\n",
       "      <td>...</td>\n",
       "      <td>...</td>\n",
       "    </tr>\n",
       "    <tr>\n",
       "      <th>113</th>\n",
       "      <td>-0.720620</td>\n",
       "      <td>0.538740</td>\n",
       "      <td>0.519293</td>\n",
       "      <td>0.290241</td>\n",
       "      <td>-0.388227</td>\n",
       "    </tr>\n",
       "    <tr>\n",
       "      <th>114</th>\n",
       "      <td>-0.593890</td>\n",
       "      <td>0.494880</td>\n",
       "      <td>0.352705</td>\n",
       "      <td>0.244906</td>\n",
       "      <td>-0.293904</td>\n",
       "    </tr>\n",
       "    <tr>\n",
       "      <th>115</th>\n",
       "      <td>-0.484450</td>\n",
       "      <td>0.999270</td>\n",
       "      <td>0.234692</td>\n",
       "      <td>0.998541</td>\n",
       "      <td>-0.484096</td>\n",
       "    </tr>\n",
       "    <tr>\n",
       "      <th>116</th>\n",
       "      <td>-0.006336</td>\n",
       "      <td>0.999270</td>\n",
       "      <td>0.000040</td>\n",
       "      <td>0.998541</td>\n",
       "      <td>-0.006332</td>\n",
       "    </tr>\n",
       "    <tr>\n",
       "      <th>117</th>\n",
       "      <td>0.632650</td>\n",
       "      <td>-0.030612</td>\n",
       "      <td>0.400246</td>\n",
       "      <td>0.000937</td>\n",
       "      <td>-0.019367</td>\n",
       "    </tr>\n",
       "  </tbody>\n",
       "</table>\n",
       "<p>118 rows × 5 columns</p>\n",
       "</div>"
      ],
      "text/plain": [
       "           X1        X2      X1_2      X2_2     X1_X2\n",
       "0    0.051267  0.699560  0.002628  0.489384  0.035864\n",
       "1   -0.092742  0.684940  0.008601  0.469143 -0.063523\n",
       "2   -0.213710  0.692250  0.045672  0.479210 -0.147941\n",
       "3   -0.375000  0.502190  0.140625  0.252195 -0.188321\n",
       "4    0.183760  0.933480  0.033768  0.871385  0.171536\n",
       "..        ...       ...       ...       ...       ...\n",
       "113 -0.720620  0.538740  0.519293  0.290241 -0.388227\n",
       "114 -0.593890  0.494880  0.352705  0.244906 -0.293904\n",
       "115 -0.484450  0.999270  0.234692  0.998541 -0.484096\n",
       "116 -0.006336  0.999270  0.000040  0.998541 -0.006332\n",
       "117  0.632650 -0.030612  0.400246  0.000937 -0.019367\n",
       "\n",
       "[118 rows x 5 columns]"
      ]
     },
     "execution_count": 14,
     "metadata": {},
     "output_type": "execute_result"
    }
   ],
   "source": [
    "# new data\n",
    "X1_2 = X1 * X1\n",
    "X2_2 = X2 * X2\n",
    "X1_X2 = X1 * X2\n",
    "X_new = pd.DataFrame({'X1':X1, 'X2':X2, 'X1_2':X1_2, 'X2_2':X2_2, 'X1_X2':X1_X2})\n",
    "X_new"
   ]
  },
  {
   "cell_type": "code",
   "execution_count": 15,
   "id": "340a8202",
   "metadata": {},
   "outputs": [
    {
     "data": {
      "text/html": [
       "<style>#sk-container-id-1 {color: black;background-color: white;}#sk-container-id-1 pre{padding: 0;}#sk-container-id-1 div.sk-toggleable {background-color: white;}#sk-container-id-1 label.sk-toggleable__label {cursor: pointer;display: block;width: 100%;margin-bottom: 0;padding: 0.3em;box-sizing: border-box;text-align: center;}#sk-container-id-1 label.sk-toggleable__label-arrow:before {content: \"▸\";float: left;margin-right: 0.25em;color: #696969;}#sk-container-id-1 label.sk-toggleable__label-arrow:hover:before {color: black;}#sk-container-id-1 div.sk-estimator:hover label.sk-toggleable__label-arrow:before {color: black;}#sk-container-id-1 div.sk-toggleable__content {max-height: 0;max-width: 0;overflow: hidden;text-align: left;background-color: #f0f8ff;}#sk-container-id-1 div.sk-toggleable__content pre {margin: 0.2em;color: black;border-radius: 0.25em;background-color: #f0f8ff;}#sk-container-id-1 input.sk-toggleable__control:checked~div.sk-toggleable__content {max-height: 200px;max-width: 100%;overflow: auto;}#sk-container-id-1 input.sk-toggleable__control:checked~label.sk-toggleable__label-arrow:before {content: \"▾\";}#sk-container-id-1 div.sk-estimator input.sk-toggleable__control:checked~label.sk-toggleable__label {background-color: #d4ebff;}#sk-container-id-1 div.sk-label input.sk-toggleable__control:checked~label.sk-toggleable__label {background-color: #d4ebff;}#sk-container-id-1 input.sk-hidden--visually {border: 0;clip: rect(1px 1px 1px 1px);clip: rect(1px, 1px, 1px, 1px);height: 1px;margin: -1px;overflow: hidden;padding: 0;position: absolute;width: 1px;}#sk-container-id-1 div.sk-estimator {font-family: monospace;background-color: #f0f8ff;border: 1px dotted black;border-radius: 0.25em;box-sizing: border-box;margin-bottom: 0.5em;}#sk-container-id-1 div.sk-estimator:hover {background-color: #d4ebff;}#sk-container-id-1 div.sk-parallel-item::after {content: \"\";width: 100%;border-bottom: 1px solid gray;flex-grow: 1;}#sk-container-id-1 div.sk-label:hover label.sk-toggleable__label {background-color: #d4ebff;}#sk-container-id-1 div.sk-serial::before {content: \"\";position: absolute;border-left: 1px solid gray;box-sizing: border-box;top: 0;bottom: 0;left: 50%;z-index: 0;}#sk-container-id-1 div.sk-serial {display: flex;flex-direction: column;align-items: center;background-color: white;padding-right: 0.2em;padding-left: 0.2em;position: relative;}#sk-container-id-1 div.sk-item {position: relative;z-index: 1;}#sk-container-id-1 div.sk-parallel {display: flex;align-items: stretch;justify-content: center;background-color: white;position: relative;}#sk-container-id-1 div.sk-item::before, #sk-container-id-1 div.sk-parallel-item::before {content: \"\";position: absolute;border-left: 1px solid gray;box-sizing: border-box;top: 0;bottom: 0;left: 50%;z-index: -1;}#sk-container-id-1 div.sk-parallel-item {display: flex;flex-direction: column;z-index: 1;position: relative;background-color: white;}#sk-container-id-1 div.sk-parallel-item:first-child::after {align-self: flex-end;width: 50%;}#sk-container-id-1 div.sk-parallel-item:last-child::after {align-self: flex-start;width: 50%;}#sk-container-id-1 div.sk-parallel-item:only-child::after {width: 0;}#sk-container-id-1 div.sk-dashed-wrapped {border: 1px dashed gray;margin: 0 0.4em 0.5em 0.4em;box-sizing: border-box;padding-bottom: 0.4em;background-color: white;}#sk-container-id-1 div.sk-label label {font-family: monospace;font-weight: bold;display: inline-block;line-height: 1.2em;}#sk-container-id-1 div.sk-label-container {text-align: center;}#sk-container-id-1 div.sk-container {/* jupyter's `normalize.less` sets `[hidden] { display: none; }` but bootstrap.min.css set `[hidden] { display: none !important; }` so we also need the `!important` here to be able to override the default hidden behavior on the sphinx rendered scikit-learn.org. See: https://github.com/scikit-learn/scikit-learn/issues/21755 */display: inline-block !important;position: relative;}#sk-container-id-1 div.sk-text-repr-fallback {display: none;}</style><div id=\"sk-container-id-1\" class=\"sk-top-container\"><div class=\"sk-text-repr-fallback\"><pre>LogisticRegression()</pre><b>In a Jupyter environment, please rerun this cell to show the HTML representation or trust the notebook. <br />On GitHub, the HTML representation is unable to render, please try loading this page with nbviewer.org.</b></div><div class=\"sk-container\" hidden><div class=\"sk-item\"><div class=\"sk-estimator sk-toggleable\"><input class=\"sk-toggleable__control sk-hidden--visually\" id=\"sk-estimator-id-1\" type=\"checkbox\" checked><label for=\"sk-estimator-id-1\" class=\"sk-toggleable__label sk-toggleable__label-arrow\">LogisticRegression</label><div class=\"sk-toggleable__content\"><pre>LogisticRegression()</pre></div></div></div></div></div>"
      ],
      "text/plain": [
       "LogisticRegression()"
      ]
     },
     "execution_count": 15,
     "metadata": {},
     "output_type": "execute_result"
    }
   ],
   "source": [
    "# 创建逻辑回归模型,并训练它\n",
    "from sklearn.linear_model import LogisticRegression\n",
    "LR_model = LogisticRegression()\n",
    "LR_model.fit(X_new, y)"
   ]
  },
  {
   "cell_type": "code",
   "execution_count": 16,
   "id": "79ba7922",
   "metadata": {},
   "outputs": [
    {
     "data": {
      "text/plain": [
       "0.8135593220338984"
      ]
     },
     "execution_count": 16,
     "metadata": {},
     "output_type": "execute_result"
    }
   ],
   "source": [
    "# 模型评估\n",
    "from sklearn.metrics import accuracy_score\n",
    "y_predict = LR_model.predict(X_new)\n",
    "accuracy = accuracy_score(y, y_predict)\n",
    "accuracy"
   ]
  },
  {
   "cell_type": "code",
   "execution_count": 22,
   "id": "56e225e4",
   "metadata": {},
   "outputs": [],
   "source": [
    "# 通过X1计算X2的函数\n",
    "def f(x):\n",
    "    theta0 = LR_model.intercept_\n",
    "    theta1, theta2, theta3, theta4, theta5 = LR_model.coef_[0][0], LR_model.coef_[0][1], LR_model.coef_[0][2], LR_model.coef_[0][3], LR_model.coef_[0][4]\n",
    "    a = theta4\n",
    "    b = theta5 * x + theta2\n",
    "    c = theta0 + theta1 * x + theta3 * x * x\n",
    "    x_boundary1 = (-b + np.sqrt(b * b - 4 * a * c)) / (2 * a)\n",
    "    x_boundary2 = (-b - np.sqrt(b * b - 4 * a * c)) / (2 * a)\n",
    "    return x_boundary1, x_boundary2"
   ]
  },
  {
   "cell_type": "code",
   "execution_count": 36,
   "id": "65b8ae96",
   "metadata": {},
   "outputs": [
    {
     "name": "stderr",
     "output_type": "stream",
     "text": [
      "C:\\Users\\Glong\\AppData\\Local\\Temp\\ipykernel_7976\\1696809278.py:8: RuntimeWarning: invalid value encountered in sqrt\n",
      "  x_boundary1 = (-b + np.sqrt(b * b - 4 * a * c)) / (2 * a)\n",
      "C:\\Users\\Glong\\AppData\\Local\\Temp\\ipykernel_7976\\1696809278.py:9: RuntimeWarning: invalid value encountered in sqrt\n",
      "  x_boundary2 = (-b - np.sqrt(b * b - 4 * a * c)) / (2 * a)\n"
     ]
    }
   ],
   "source": [
    "#定义新的X1,通过计算得到新的X2\n",
    "X1_new = [-0.9 + x / 10000 for x in range(0, 19000)]\n",
    "X2_new1 = []\n",
    "X2_new2 = []\n",
    "for x in X1_new:\n",
    "    X2_new1.append(f(x)[0])\n",
    "    X2_new2.append(f(x)[1])"
   ]
  },
  {
   "cell_type": "code",
   "execution_count": 38,
   "id": "5f3a7300",
   "metadata": {},
   "outputs": [
    {
     "data": {
      "image/png": "[encoded data removed]",
      "text/plain": [
       "<Figure size 432x288 with 1 Axes>"
      ]
     },
     "metadata": {
      "needs_background": "light"
     },
     "output_type": "display_data"
    }
   ],
   "source": [
    "# 画出边界函数图像\n",
    "fig2 = plt.figure()\n",
    "passed = plt.scatter(X1[mask], X2[mask])\n",
    "failed = plt.scatter(X1[~mask], X2[~mask])\n",
    "plt.plot(X1_new, X2_new1, 'r')\n",
    "plt.plot(X1_new, X2_new2, 'r')\n",
    "plt.xlabel('test1')\n",
    "plt.ylabel('test2')\n",
    "plt.legend((passed, failed), ('passed', 'failed'))\n",
    "plt.show()"
   ]
  },
  {
   "cell_type": "code",
   "execution_count": null,
   "id": "af0c0655",
   "metadata": {},
   "outputs": [],
   "source": []
  }
 ],
 "metadata": {
  "kernelspec": {
   "display_name": "Python 3 (ipykernel)",
   "language": "python",
   "name": "python3"
  },
  "language_info": {
   "codemirror_mode": {
    "name": "ipython",
    "version": 3
   },
   "file_extension": ".py",
   "mimetype": "text/x-python",
   "name": "python",
   "nbconvert_exporter": "python",
   "pygments_lexer": "ipython3",
   "version": "3.10.4"
  }
 },
 "nbformat": 4,
 "nbformat_minor": 5
}
